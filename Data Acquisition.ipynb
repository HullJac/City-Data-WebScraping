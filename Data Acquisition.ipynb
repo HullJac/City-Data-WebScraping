{
 "cells": [
  {
   "cell_type": "code",
   "execution_count": 512,
   "metadata": {
    "collapsed": true
   },
   "outputs": [],
   "source": [
    "import time\n",
    "import random\n",
    "import requests\n",
    "import numpy as np\n",
    "import pandas as pd\n",
    "from bs4 import BeautifulSoup"
   ]
  },
  {
   "cell_type": "markdown",
   "metadata": {},
   "source": [
    "# 2.1 Produce the list of neighborhood names along with their URL's"
   ]
  },
  {
   "cell_type": "code",
   "execution_count": 377,
   "metadata": {
    "collapsed": true
   },
   "outputs": [],
   "source": [
    "url ='http://www.city-data.com/indexes/neighborhoods/FL/1/'\n",
    "p = requests.get(url)\n",
    "b = BeautifulSoup(p.content, \"html.parser\")"
   ]
  },
  {
   "cell_type": "code",
   "execution_count": 378,
   "metadata": {
    "collapsed": true,
    "scrolled": true
   },
   "outputs": [],
   "source": [
    "Hoods = b.find(class_ = 'index')\n",
    "Hoods_links=Hoods.find_all('a')\n",
    "#Hoods_links"
   ]
  },
  {
   "cell_type": "code",
   "execution_count": 379,
   "metadata": {
    "collapsed": true
   },
   "outputs": [],
   "source": [
    "links=[]\n",
    "for link in Hoods_links:\n",
    "    if link.get('href').__contains__('Tampa')==True:\n",
    "        link='http://www.city-data.com'+link.get('href')\n",
    "        links.append(link)\n",
    "#links"
   ]
  },
  {
   "cell_type": "code",
   "execution_count": 380,
   "metadata": {
    "collapsed": true
   },
   "outputs": [],
   "source": [
    "Names=[]\n",
    "for link in Hoods_links:\n",
    "    if link.get('href').__contains__('Tampa')==True:\n",
    "        x=link.get('href')\n",
    "        x=x[14:-14]\n",
    "        Names.append(x)\n",
    "#Names"
   ]
  },
  {
   "cell_type": "code",
   "execution_count": null,
   "metadata": {
    "collapsed": true
   },
   "outputs": [],
   "source": [
    "def Names_and_urls(url):\n",
    "    p = requests.get(url)\n",
    "    b = BeautifulSoup(p.content, \"html.parser\")\n",
    "    column_names=['Name','Link']\n",
    "    Links_Names=[]\n",
    "    Hoods = b.find(class_ = 'index')\n",
    "    Hoods_links=Hoods.find_all('a')\n",
    "    \n",
    "    for link in Hoods_links:\n",
    "        if link.get('href').__contains__('Tampa')==True:\n",
    "            x=link.get('href')\n",
    "            x=x[14:-14]\n",
    "            if link.get('href').__contains__('Tampa')==True:\n",
    "                Link='http://www.city-data.com'+link.get('href')\n",
    "                d = dict(zip(column_names,[x,Link]))\n",
    "                Links_Names.append(d)\n",
    "    return Links_Names\n",
    "\n",
    "#Names_and_urls('http://www.city-data.com/indexes/neighborhoods/FL/1/')"
   ]
  },
  {
   "cell_type": "code",
   "execution_count": null,
   "metadata": {
    "collapsed": true
   },
   "outputs": [],
   "source": [
    "url = 'http://www.city-data.com/indexes/neighborhoods/FL/%d/'\n",
    "\n",
    "l = []\n",
    "for page in range(1,134):\n",
    "    print(url%page)\n",
    "    l = l + Names_and_urls(url%page)\n",
    "    time.sleep(2)\n",
    "    "
   ]
  },
  {
   "cell_type": "code",
   "execution_count": null,
   "metadata": {
    "collapsed": true
   },
   "outputs": [],
   "source": [
    "l"
   ]
  },
  {
   "cell_type": "code",
   "execution_count": 16,
   "metadata": {},
   "outputs": [
    {
     "data": {
      "text/plain": [
       "(2393, 1)"
      ]
     },
     "execution_count": 16,
     "metadata": {},
     "output_type": "execute_result"
    }
   ],
   "source": [
    "df=pd.DataFrame(l)\n",
    "df.set_index('Name', inplace=True)\n",
    "df.to_csv('LinksandNames.csv')\n",
    "df.shape"
   ]
  },
  {
   "cell_type": "code",
   "execution_count": 17,
   "metadata": {},
   "outputs": [
    {
     "name": "stdout",
     "output_type": "stream",
     "text": [
      "Name,Link\r\n",
      "1000-Channelside-Condo,http://www.city-data.com/neighborhood/1000-Channelside-Condo-Tampa-FL.html\r\n",
      "1301-Soho-Condo,http://www.city-data.com/neighborhood/1301-Soho-Condo-Tampa-FL.html\r\n",
      "1508-South-Howard-Condo,http://www.city-data.com/neighborhood/1508-South-Howard-Condo-Tampa-FL.html\r\n",
      "1611-6th-Avenue-Townhomes,http://www.city-data.com/neighborhood/1611-6th-Avenue-Townhomes-Tampa-FL.html\r\n",
      "2002-Dekle-Condo,http://www.city-data.com/neighborhood/2002-Dekle-Condo-Tampa-FL.html\r\n",
      "215-Verne-Condo,http://www.city-data.com/neighborhood/215-Verne-Condo-Tampa-FL.html\r\n",
      "2513-Maryland-Avenue-Condo,http://www.city-data.com/neighborhood/2513-Maryland-Avenue-Condo-Tampa-FL.html\r\n",
      "2515-Maryland-Avenue-Condo,http://www.city-data.com/neighborhood/2515-Maryland-Avenue-Condo-Tampa-FL.html\r\n",
      "2518-W-Kansas-Avenue-Condo,http://www.city-data.com/neighborhood/2518-W-Kansas-Avenue-Condo-Tampa-FL.html\r\n",
      "cat: write error: Broken pipe\r\n"
     ]
    }
   ],
   "source": [
    "%cat LinksandNames.csv | head -10"
   ]
  },
  {
   "cell_type": "markdown",
   "metadata": {},
   "source": [
    "# 2.2 Scrape neighborhood data based on URL"
   ]
  },
  {
   "cell_type": "code",
   "execution_count": 573,
   "metadata": {
    "collapsed": true
   },
   "outputs": [],
   "source": [
    "url ='http://www.city-data.com/neighborhood/Alice-Kelly-s-Tampa-FL.html'\n",
    "url = 'http://www.city-data.com/neighborhood/40th--A-Lincoln-NE.html'\n",
    "p = requests.get(url)\n",
    "b = BeautifulSoup(p.content, \"html.parser\")"
   ]
  },
  {
   "cell_type": "code",
   "execution_count": 574,
   "metadata": {
    "collapsed": true
   },
   "outputs": [],
   "source": [
    "for item in l:\n",
    "    x=item\n",
    "    for item in x.values():\n",
    "        links2.append(item)\n",
    "names=links2[0::2]\n",
    "#names"
   ]
  },
  {
   "cell_type": "code",
   "execution_count": 575,
   "metadata": {},
   "outputs": [
    {
     "data": {
      "text/plain": [
       "['1', 'density:5th']"
      ]
     },
     "execution_count": 575,
     "metadata": {},
     "output_type": "execute_result"
    }
   ],
   "source": [
    "#### gets the area and population\n",
    "def area_population(url):\n",
    "    try:\n",
    "        p = requests.get(url)\n",
    "        b = BeautifulSoup(p.content, \"html.parser\")\n",
    "        first=b.find(class_='row')\n",
    "        second=first.find(class_='content-item')\n",
    "        third=second.text.split('\\n')\n",
    "        fourth=third[0].split(' ')\n",
    "        fifth=fourth[1:]\n",
    "        space=' '\n",
    "        area=space.join(fifth)\n",
    "    except:\n",
    "        area='NA'\n",
    "    try:\n",
    "        p = requests.get(url)\n",
    "        b = BeautifulSoup(p.content, \"html.parser\")\n",
    "        first=b.find(class_='row')\n",
    "        second=first.find(class_='content-item')\n",
    "        third=second.text.split('\\n')\n",
    "        sixth=third[1].split(' ')\n",
    "        population=sixth[1]\n",
    "    except:\n",
    "        population='NA'\n",
    "    return [area,population]\n",
    "area_population('http://www.city-data.com/neighborhood/5th-Avenue-Lofts-Condo-Tampa-FL.html')"
   ]
  },
  {
   "cell_type": "code",
   "execution_count": 576,
   "metadata": {},
   "outputs": [
    {
     "data": {
      "text/plain": [
       "<div class=\"hgraph\"><table><tr><td><b>40th  A:</b></td><td><p class=\"h\" style=\"padding-left:150px;\"></p>5,532 <b>people per square mile</b></td></tr><tr><td><b>Lincoln:</b></td><td><p class=\"a\" style=\"padding-left:101px;\"></p>3,756 <b>people per square mile</b></td></tr></table></div>"
      ]
     },
     "execution_count": 576,
     "metadata": {},
     "output_type": "execute_result"
    }
   ],
   "source": [
    "#Finding area to search for data\n",
    "first=b.find(class_='row')\n",
    "second=first.find_all(class_='content-item')\n",
    "third=first.find_all(class_='hgraph')\n",
    "third[0]"
   ]
  },
  {
   "cell_type": "code",
   "execution_count": 577,
   "metadata": {},
   "outputs": [
    {
     "data": {
      "text/plain": [
       "'5,532 people per square mile'"
      ]
     },
     "execution_count": 577,
     "metadata": {},
     "output_type": "execute_result"
    }
   ],
   "source": [
    "#finds specific data I want\n",
    "third[0].find_all('tr')[0].find_all('td')[1].text"
   ]
  },
  {
   "cell_type": "code",
   "execution_count": 578,
   "metadata": {},
   "outputs": [
    {
     "data": {
      "text/plain": [
       "['1,020 people per square mile',\n",
       " '$52,778',\n",
       " '$911',\n",
       " '21',\n",
       " '35.2 years',\n",
       " '29.3 years',\n",
       " '1.3 people',\n",
       " '20.7%',\n",
       " '10.7%',\n",
       " '56.5%',\n",
       " '102.7%',\n",
       " '32.0%',\n",
       " '34.9%',\n",
       " '0.0%',\n",
       " '28.0%',\n",
       " '55.9%',\n",
       " '5.3%',\n",
       " '10.7%',\n",
       " '1.6',\n",
       " '1.2',\n",
       " '36.8%']"
      ]
     },
     "execution_count": 578,
     "metadata": {},
     "output_type": "execute_result"
    }
   ],
   "source": [
    "#fuction to get all the fields of data that I want\n",
    "def parse_neigh(url):\n",
    "    data=[]\n",
    "    p = requests.get(url)\n",
    "    b = BeautifulSoup(p.content, \"html.parser\")\n",
    "    first=b.find(class_='row')\n",
    "    second=first.find_all(class_='content-item')\n",
    "    third=first.find_all(class_='hgraph')\n",
    "    for ind in range(0,21):\n",
    "        #move try except out of the loop, too bad just proceed to the next one.\n",
    "        try:\n",
    "            x=third[ind].find_all('tr')[0].find_all('td')[1].text\n",
    "            data.append(x)\n",
    "            #append the keys with the data instead of later.\n",
    "        except:\n",
    "            #pass\n",
    "            data.append('NA')\n",
    "    return data\n",
    "parse_neigh('http://www.city-data.com/neighborhood/Alice-Kelly-s-Tampa-FL.html')"
   ]
  },
  {
   "cell_type": "code",
   "execution_count": 579,
   "metadata": {
    "collapsed": true
   },
   "outputs": [],
   "source": [
    "#Turning my data into a dictionary\n",
    "\n",
    "def data_acquisition(url,name):\n",
    "    values = [name]+area_population(url)+parse_neigh(url)\n",
    "    keys = ['Neighborhood Name',\n",
    "        'Area',\n",
    "        'Population',\n",
    "        'Population density',\n",
    "        'Median household income',\n",
    "        'Median rent',\n",
    "        'Population of males',\n",
    "        'Median age of males',\n",
    "        'Median age of females',\n",
    "        'Average household size',\n",
    "        'Percentage of family households',\n",
    "        'Percentage of married-couple families',\n",
    "        'Percentage of married-couple families with children',\n",
    "        'Percentage of single mother households',\n",
    "        'Percentage of never married males Over 15',\n",
    "        'Percentage of never married females Over 15',\n",
    "        'Percentage of people that do not speak english',\n",
    "        'Percentage of people born in the state',\n",
    "        'Percentage of people born in another state',\n",
    "        'Percentage of native residents born outside the US',\n",
    "        'Percentage of foreign born residents',\n",
    "        'Average number of vehicles per house/condo',\n",
    "        'Average number of vehicles per apartment',\n",
    "        'Percentage of units with a mortgage']\n",
    "    d = dict(zip(keys,values))\n",
    "    total_data.append(d)"
   ]
  },
  {
   "cell_type": "code",
   "execution_count": 580,
   "metadata": {
    "collapsed": true
   },
   "outputs": [],
   "source": [
    "#data_acquisition('http://www.city-data.com/neighborhood/Beach-Park-Annex-Tampa-FL.html','name')"
   ]
  },
  {
   "cell_type": "markdown",
   "metadata": {},
   "source": [
    "# 2.3 Scraping all the neighborhoods"
   ]
  },
  {
   "cell_type": "code",
   "execution_count": 581,
   "metadata": {
    "collapsed": true
   },
   "outputs": [],
   "source": [
    "#clears total_data\n",
    "\n",
    "#total_data=[]"
   ]
  },
  {
   "cell_type": "code",
   "execution_count": 582,
   "metadata": {
    "collapsed": true,
    "scrolled": true
   },
   "outputs": [],
   "source": [
    "#Obtains all the links to neighborhoods in Tampa\n",
    "links2=[]\n",
    "for item in l:\n",
    "    x=item\n",
    "    for item in x.values():\n",
    "        links2.append(item)\n",
    "links3=links2[1::2]\n",
    "#links3"
   ]
  },
  {
   "cell_type": "code",
   "execution_count": null,
   "metadata": {
    "scrolled": true
   },
   "outputs": [],
   "source": [
    "#goes though all the links and adds the name to them and scrapes the data from every site\n",
    "c=1032\n",
    "for link in links3[1032:1051]:\n",
    "    x=random.randint(10,20)\n",
    "    data_acquisition(link,names[c])\n",
    "    time.sleep(x)\n",
    "    c+=1\n",
    "    print('done')"
   ]
  },
  {
   "cell_type": "code",
   "execution_count": 583,
   "metadata": {
    "collapsed": true
   },
   "outputs": [],
   "source": [
    "#total_data[-1]"
   ]
  },
  {
   "cell_type": "code",
   "execution_count": 613,
   "metadata": {},
   "outputs": [
    {
     "data": {
      "text/plain": [
       "(1032, 23)"
      ]
     },
     "execution_count": 613,
     "metadata": {},
     "output_type": "execute_result"
    }
   ],
   "source": [
    "df2=pd.DataFrame(total_data)\n",
    "df2.set_index('Neighborhood Name', inplace=True)\n",
    "df2.to_csv('DataAcquisition.csv')\n",
    "df2.shape\n",
    "#df2"
   ]
  },
  {
   "cell_type": "code",
   "execution_count": 614,
   "metadata": {},
   "outputs": [
    {
     "name": "stdout",
     "output_type": "stream",
     "text": [
      "Neighborhood Name,Area,Average household size,Average number of vehicles per apartment,Average number of vehicles per house/condo,Median age of females,Median age of males,Median household income,Median rent,Percentage of family households,Percentage of foreign born residents,Percentage of married-couple families,Percentage of married-couple families with children,Percentage of native residents born outside the US,Percentage of never married females Over 15,Percentage of never married males Over 15,Percentage of people born in another state,Percentage of people born in the state,Percentage of people that do not speak english,Percentage of single mother households,Percentage of units with a mortgage,Population,Population density,Population of males\r\n",
      "1000-Channelside-Condo,,NA,NA,NA,NA,NA,NA,NA,NA,NA,NA,NA,NA,NA,NA,NA,NA,NA,NA,NA,NA,242.5,NA\r\n",
      "1301-Soho-Condo,0.003 square miles,NA,NA,NA,NA,NA,NA,NA,NA,NA,NA,NA,NA,NA,NA,NA,NA,NA,NA,NA,NA,242.5,NA\r\n",
      "1508-South-Howard-Condo,,NA,NA,NA,NA,NA,NA,NA,NA,NA,NA,NA,NA,NA,NA,NA,NA,NA,NA,NA,NA,242.5,NA\r\n",
      "1611-6th-Avenue-Townhomes,,24.4%,1.5%,8.5%,34.9%,13.2%,$880,1.6 people,48.0%,2.2%,32.5%,7.2%,7.7%,1.1,1.3,22.0%,242.5,56.1%,12.3%,3.6%,NA,\"$55,643\",12.2%\r\n",
      "2002-Dekle-Condo,,NA,NA,NA,NA,NA,NA,NA,NA,NA,NA,NA,NA,NA,NA,NA,NA,NA,NA,NA,NA,242.5,NA\r\n",
      "215-Verne-Condo,1,35.0%,29.2%,242.5,26.5%,27.1%,\"$94,049\",\"$1,267\",37.4%,89.7%,26.3%,28.7%,1.6,58.5%,30.1%,1.7,8.3%,3.0%,0.0%,16.5%,density:215,\"1,709 people per square mile\",1.9 people\r\n",
      "2513-Maryland-Avenue-Condo,,NA,NA,NA,NA,NA,NA,NA,NA,NA,NA,NA,NA,NA,NA,NA,NA,NA,NA,NA,NA,242.5,NA\r\n",
      "2515-Maryland-Avenue-Condo,,NA,NA,NA,NA,NA,NA,NA,NA,NA,NA,NA,NA,NA,NA,NA,NA,NA,NA,NA,NA,242.5,NA\r\n",
      "2518-W-Kansas-Avenue-Condo,,NA,NA,NA,NA,NA,NA,NA,NA,NA,NA,NA,NA,NA,NA,NA,NA,NA,NA,NA,NA,242.5,NA\r\n",
      "cat: write error: Broken pipe\r\n"
     ]
    }
   ],
   "source": [
    "%cat DataAcquisition.csv | head -10"
   ]
  }
 ],
 "metadata": {
  "kernelspec": {
   "display_name": "Python 3",
   "language": "python",
   "name": "python3"
  },
  "language_info": {
   "codemirror_mode": {
    "name": "ipython",
    "version": 3
   },
   "file_extension": ".py",
   "mimetype": "text/x-python",
   "name": "python",
   "nbconvert_exporter": "python",
   "pygments_lexer": "ipython3",
   "version": "3.5.4"
  }
 },
 "nbformat": 4,
 "nbformat_minor": 2
}
